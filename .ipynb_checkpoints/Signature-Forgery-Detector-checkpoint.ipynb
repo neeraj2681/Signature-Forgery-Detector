{
 "cells": [
  {
   "cell_type": "code",
   "execution_count": 4,
   "metadata": {},
   "outputs": [],
   "source": [
    "#@author: Niraj Kumar"
   ]
  },
  {
   "cell_type": "code",
   "execution_count": 5,
   "metadata": {
    "id": "G14aCKSxX7Bo"
   },
   "outputs": [],
   "source": [
    "#necessary imports\n",
    "import tensorflow as tf\n",
    "from tensorflow import keras\n",
    "import matplotlib.pyplot as plt\n",
    "import numpy as np\n",
    "import os\n",
    "import imageio\n",
    "import random"
   ]
  },
  {
   "cell_type": "code",
   "execution_count": 12,
   "metadata": {
    "id": "n5FIyVbSYIE0",
    "scrolled": true
   },
   "outputs": [
    {
     "name": "stdout",
     "output_type": "stream",
     "text": [
      "Sample Image\n"
     ]
    },
    {
     "data": {
      "text/plain": [
       "<matplotlib.image.AxesImage at 0x1f960229880>"
      ]
     },
     "execution_count": 12,
     "metadata": {},
     "output_type": "execute_result"
    },
    {
     "data": {
      "image/png": "[encoded data removed]",
      "text/plain": [
       "<Figure size 1005.94x288 with 1 Axes>"
      ]
     },
     "metadata": {
      "needs_background": "light"
     },
     "output_type": "display_data"
    }
   ],
   "source": [
    "#loading the Signature dataset\n",
    "path = \"./Hindi/\"\n",
    "dir_list = next(os.walk(path))[1]\n",
    "dir_list.sort()\n",
    "\n",
    "#segregating genuine and forged signatures\n",
    "trainer, tester  = [], []\n",
    "\n",
    "train_labels = np.array([])\n",
    "test_labels = np.array([])\n",
    "\n",
    "for directory in dir_list:\n",
    "    images = os.listdir(path+directory)\n",
    "    images.sort()\n",
    "    images = [path+directory+'/'+x for x in images]\n",
    "    \n",
    "    images_forged = images[:30]\n",
    "    images_original = images[30:]\n",
    "    random.shuffle(images_forged)\n",
    "    random.shuffle(images_original)\n",
    "    \n",
    "    trainer.append(images_forged[:22])\n",
    "    train_labels = np.append(train_labels, np.zeros(22, dtype = float))\n",
    "    \n",
    "    trainer.append(images_original[:18])\n",
    "    train_labels = np.append(train_labels, np.ones(18, dtype = float))\n",
    "    \n",
    "    tester.append(images_forged[22:])\n",
    "    test_labels = np.append(test_labels, np.zeros(8, dtype = float))\n",
    "    \n",
    "    tester.append(images_original[18:])\n",
    "    test_labels = np.append(test_labels, np.ones(6, dtype = float))\n",
    "\n",
    "print(\"Sample Image\")\n",
    "im = imageio.imread(trainer[0][0])\n",
    "plt.matshow(im, cmap = 'gray')"
   ]
  },
  {
   "cell_type": "code",
   "execution_count": 13,
   "metadata": {
    "id": "HSqdR1ibaSPO"
   },
   "outputs": [],
   "source": [
    "import cv2\n",
    "\n",
    "temp_train_set, temp_test_set = [], []\n",
    "for person in trainer:\n",
    "    for sign in person:\n",
    "        im = cv2.imread(sign)\n",
    "        res = cv2.resize(im, dsize=(225, 75), interpolation=cv2.INTER_CUBIC)\n",
    "        temp_train_set.append(res)\n",
    "\n",
    "\n",
    "for person in tester:\n",
    "    for sign in person:\n",
    "        im = cv2.imread(sign)\n",
    "        res = cv2.resize(im, dsize=(225, 75), interpolation=cv2.INTER_CUBIC)\n",
    "        temp_test_set.append(res)\n",
    "\n",
    "train_set = np.array(temp_train_set)\n",
    "test_set = np.array(temp_test_set)\n",
    "\n",
    "train_set = train_set / 255\n",
    "test_set = test_set / 255"
   ]
  },
  {
   "cell_type": "code",
   "execution_count": 14,
   "metadata": {},
   "outputs": [
    {
     "name": "stdout",
     "output_type": "stream",
     "text": [
      "Modified Image\n"
     ]
    },
    {
     "data": {
      "text/plain": [
       "<matplotlib.image.AxesImage at 0x1f9602aec40>"
      ]
     },
     "execution_count": 14,
     "metadata": {},
     "output_type": "execute_result"
    },
    {
     "data": {
      "image/png": "[encoded data removed]",
      "text/plain": [
       "<Figure size 864x288 with 1 Axes>"
      ]
     },
     "metadata": {
      "needs_background": "light"
     },
     "output_type": "display_data"
    }
   ],
   "source": [
    "print(\"Modified Image\")\n",
    "plt.matshow(train_set[0], cmap = 'gray')"
   ]
  },
  {
   "cell_type": "code",
   "execution_count": 8,
   "metadata": {
    "id": "YAbQaPXbadSx"
   },
   "outputs": [],
   "source": [
    "#defining a model\n",
    "def get_model():\n",
    "    model = keras.Sequential([\n",
    "                            tf.keras.layers.Conv2D(64, (3,3), activation='relu', input_shape=(75, 225, 3)),\n",
    "                            tf.keras.layers.MaxPooling2D(2, 2),\n",
    "                            tf.keras.layers.Conv2D(64, (3,3), activation='relu'),\n",
    "                            tf.keras.layers.MaxPooling2D(2,2),\n",
    "                            keras.layers.Flatten(), \n",
    "                            keras.layers.Dense(256, activation='relu'),\n",
    "                            keras.layers.Dense(256, activation = 'relu'),\n",
    "                            keras.layers.Dense(2, activation = 'softmax')\n",
    "      ])\n",
    "    \n",
    "    model.compile(optimizer = 'adam', loss = 'sparse_categorical_crossentropy', metrics = ['accuracy'])\n",
    "    model.summary()\n",
    "    return model"
   ]
  },
  {
   "cell_type": "code",
   "execution_count": 9,
   "metadata": {
    "colab": {
     "base_uri": "https://localhost:8080/"
    },
    "id": "SHobCgHmtq65",
    "outputId": "197180fc-82bc-4d65-c51a-25729da3a453",
    "scrolled": false
   },
   "outputs": [
    {
     "name": "stdout",
     "output_type": "stream",
     "text": [
      "Model: \"sequential\"\n",
      "_________________________________________________________________\n",
      "Layer (type)                 Output Shape              Param #   \n",
      "=================================================================\n",
      "conv2d (Conv2D)              (None, 73, 223, 64)       1792      \n",
      "_________________________________________________________________\n",
      "max_pooling2d (MaxPooling2D) (None, 36, 111, 64)       0         \n",
      "_________________________________________________________________\n",
      "conv2d_1 (Conv2D)            (None, 34, 109, 64)       36928     \n",
      "_________________________________________________________________\n",
      "max_pooling2d_1 (MaxPooling2 (None, 17, 54, 64)        0         \n",
      "_________________________________________________________________\n",
      "flatten (Flatten)            (None, 58752)             0         \n",
      "_________________________________________________________________\n",
      "dense (Dense)                (None, 256)               15040768  \n",
      "_________________________________________________________________\n",
      "dense_1 (Dense)              (None, 256)               65792     \n",
      "_________________________________________________________________\n",
      "dense_2 (Dense)              (None, 2)                 514       \n",
      "=================================================================\n",
      "Total params: 15,145,794\n",
      "Trainable params: 15,145,794\n",
      "Non-trainable params: 0\n",
      "_________________________________________________________________\n",
      "Epoch 1/5\n",
      "200/200 [==============================] - 62s 204ms/step - loss: 0.6488 - accuracy: 0.6731\n",
      "Epoch 2/5\n",
      "200/200 [==============================] - 42s 208ms/step - loss: 0.4604 - accuracy: 0.7848\n",
      "Epoch 3/5\n",
      "200/200 [==============================] - 33s 165ms/step - loss: 0.3541 - accuracy: 0.8431\n",
      "Epoch 4/5\n",
      "200/200 [==============================] - 8s 41ms/step - loss: 0.2513 - accuracy: 0.8948\n",
      "Epoch 5/5\n",
      "200/200 [==============================] - 8s 41ms/step - loss: 0.1717 - accuracy: 0.9320\n",
      "Evaluation on forged!\n",
      "70/70 [==============================] - 2s 11ms/step - loss: 0.4041 - accuracy: 0.8388\n"
     ]
    },
    {
     "data": {
      "text/plain": [
       "[0.4040910303592682, 0.8388392925262451]"
      ]
     },
     "execution_count": 9,
     "metadata": {},
     "output_type": "execute_result"
    }
   ],
   "source": [
    "model = get_model()\n",
    "\n",
    "model.fit(train_set, train_labels, epochs = 5)\n",
    "   \n",
    "print(\"Evaluation on forged!\")\n",
    "model.evaluate(test_set, test_labels)   "
   ]
  },
  {
   "cell_type": "code",
   "execution_count": null,
   "metadata": {},
   "outputs": [],
   "source": []
  }
 ],
 "metadata": {
  "accelerator": "GPU",
  "colab": {
   "name": "Handwritten_digits.ipynb",
   "provenance": []
  },
  "kernelspec": {
   "display_name": "Python 3",
   "language": "python",
   "name": "python3"
  },
  "language_info": {
   "codemirror_mode": {
    "name": "ipython",
    "version": 3
   },
   "file_extension": ".py",
   "mimetype": "text/x-python",
   "name": "python",
   "nbconvert_exporter": "python",
   "pygments_lexer": "ipython3",
   "version": "3.8.8"
  }
 },
 "nbformat": 4,
 "nbformat_minor": 1
}
