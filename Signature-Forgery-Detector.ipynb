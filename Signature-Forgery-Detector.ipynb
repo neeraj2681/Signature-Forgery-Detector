{
 "cells": [
  {
   "cell_type": "code",
   "execution_count": 1,
   "metadata": {},
   "outputs": [],
   "source": [
    "#@author: Niraj Kumar"
   ]
  },
  {
   "cell_type": "code",
   "execution_count": 2,
   "metadata": {
    "id": "G14aCKSxX7Bo"
   },
   "outputs": [],
   "source": [
    "#necessary imports\n",
    "import tensorflow as tf\n",
    "from tensorflow import keras\n",
    "import matplotlib.pyplot as plt\n",
    "import numpy as np\n",
    "import os\n",
    "import imageio\n",
    "import random"
   ]
  },
  {
   "cell_type": "code",
   "execution_count": 3,
   "metadata": {
    "id": "n5FIyVbSYIE0",
    "scrolled": true
   },
   "outputs": [
    {
     "name": "stdout",
     "output_type": "stream",
     "text": [
      "Sample Image\n"
     ]
    },
    {
     "data": {
      "text/plain": [
       "<matplotlib.image.AxesImage at 0x1244a0b3970>"
      ]
     },
     "execution_count": 3,
     "metadata": {},
     "output_type": "execute_result"
    },
    {
     "data": {
      "image/png": "[encoded data removed]",
      "text/plain": [
       "<Figure size 991.775x288 with 1 Axes>"
      ]
     },
     "metadata": {
      "needs_background": "light"
     },
     "output_type": "display_data"
    }
   ],
   "source": [
    "#loading the Signature dataset\n",
    "path = \"./Hindi/\"\n",
    "dir_list = next(os.walk(path))[1]\n",
    "dir_list.sort()\n",
    "\n",
    "#for training and testing data\n",
    "trainer, tester  = [], []\n",
    "\n",
    "#for storing the labels\n",
    "train_labels = np.array([])\n",
    "test_labels = np.array([])\n",
    "\n",
    "#creating a mix of forged and genuine signatures to create a training and testing dataset\n",
    "for directory in dir_list:\n",
    "    images = os.listdir(path+directory)\n",
    "    images.sort()\n",
    "    images = [path+directory+'/'+x for x in images]\n",
    "    \n",
    "    images_forged = images[:30]\n",
    "    images_original = images[30:]\n",
    "    \n",
    "    #shufflilng the signatures \n",
    "    random.shuffle(images_forged)\n",
    "    random.shuffle(images_original)\n",
    "    \n",
    "    trainer.append(images_forged[:22])\n",
    "    train_labels = np.append(train_labels, np.zeros(22, dtype = float))\n",
    "    \n",
    "    trainer.append(images_original[:18])\n",
    "    train_labels = np.append(train_labels, np.ones(18, dtype = float))\n",
    "    \n",
    "    tester.append(images_forged[22:])\n",
    "    test_labels = np.append(test_labels, np.zeros(8, dtype = float))\n",
    "    \n",
    "    tester.append(images_original[18:])\n",
    "    test_labels = np.append(test_labels, np.ones(6, dtype = float))\n",
    "\n",
    "print(\"Sample Image\")\n",
    "im = imageio.imread(trainer[0][0])\n",
    "plt.matshow(im, cmap = 'gray')"
   ]
  },
  {
   "cell_type": "code",
   "execution_count": 4,
   "metadata": {
    "id": "HSqdR1ibaSPO"
   },
   "outputs": [],
   "source": [
    "import cv2\n",
    "\n",
    "#Resizing and storing the images directly in test and train array\n",
    "temp_train_set, temp_test_set = [], []\n",
    "\n",
    "for person in trainer:\n",
    "    for sign in person:\n",
    "        im = cv2.imread(sign)\n",
    "        res = cv2.resize(im, dsize=(225, 75), interpolation=cv2.INTER_CUBIC)\n",
    "        temp_train_set.append(res)\n",
    "\n",
    "for person in tester:\n",
    "    for sign in person:\n",
    "        im = cv2.imread(sign)\n",
    "        res = cv2.resize(im, dsize=(225, 75), interpolation=cv2.INTER_CUBIC)\n",
    "        temp_test_set.append(res)\n",
    "\n",
    "train_set = np.array(temp_train_set)\n",
    "test_set = np.array(temp_test_set)\n",
    "\n",
    "#Normalising the train and test dataset\n",
    "train_set = train_set / 255\n",
    "test_set = test_set / 255"
   ]
  },
  {
   "cell_type": "code",
   "execution_count": 5,
   "metadata": {},
   "outputs": [
    {
     "name": "stdout",
     "output_type": "stream",
     "text": [
      "Modified Image\n"
     ]
    },
    {
     "data": {
      "text/plain": [
       "<matplotlib.image.AxesImage at 0x1245b0ffdc0>"
      ]
     },
     "execution_count": 5,
     "metadata": {},
     "output_type": "execute_result"
    },
    {
     "data": {
      "image/png": "[encoded data removed]",
      "text/plain": [
       "<Figure size 864x288 with 1 Axes>"
      ]
     },
     "metadata": {
      "needs_background": "light"
     },
     "output_type": "display_data"
    }
   ],
   "source": [
    "#sample Image after resizing\n",
    "print(\"Modified Image\")\n",
    "plt.matshow(train_set[0], cmap = 'gray')"
   ]
  },
  {
   "cell_type": "code",
   "execution_count": 6,
   "metadata": {},
   "outputs": [],
   "source": [
    "#defining a model for pure MLP\n",
    "def get_model_MLP():\n",
    "    model = keras.Sequential([\n",
    "                            keras.layers.Flatten(), \n",
    "                            keras.layers.Dense(64, activation='relu'),\n",
    "                            keras.layers.Dense(64, activation='relu'),\n",
    "                            keras.layers.Dense(2, activation = 'softmax')\n",
    "      ])\n",
    "    \n",
    "    model.compile(optimizer = 'sgd', loss = 'sparse_categorical_crossentropy', metrics = ['accuracy'])\n",
    "    return model"
   ]
  },
  {
   "cell_type": "code",
   "execution_count": 7,
   "metadata": {
    "id": "YAbQaPXbadSx"
   },
   "outputs": [],
   "source": [
    "#defining a model for MLP along with CNN layers\n",
    "def get_model_CNN():\n",
    "    model = keras.Sequential([\n",
    "                            tf.keras.layers.Conv2D(64, (3,3), activation='relu', input_shape=(75, 225, 3)),\n",
    "                            tf.keras.layers.MaxPooling2D(2, 2),\n",
    "                            tf.keras.layers.Conv2D(64, (3,3), activation='relu'),\n",
    "                            tf.keras.layers.MaxPooling2D(2,2),\n",
    "                            keras.layers.Flatten(), \n",
    "                            keras.layers.Dense(64, activation='relu'),\n",
    "                            keras.layers.Dense(64, activation='relu'),\n",
    "                            keras.layers.Dense(2, activation = 'softmax')\n",
    "      ])\n",
    "    \n",
    "    model.compile(optimizer = 'sgd', loss = 'sparse_categorical_crossentropy', metrics = ['accuracy'])\n",
    "\n",
    "    return model"
   ]
  },
  {
   "cell_type": "code",
   "execution_count": 8,
   "metadata": {
    "colab": {
     "base_uri": "https://localhost:8080/"
    },
    "id": "SHobCgHmtq65",
    "outputId": "197180fc-82bc-4d65-c51a-25729da3a453",
    "scrolled": true
   },
   "outputs": [
    {
     "name": "stdout",
     "output_type": "stream",
     "text": [
      "Epoch 1/5\n",
      "200/200 [==============================] - 7s 8ms/step - loss: 0.7240 - accuracy: 0.5419\n",
      "Epoch 2/5\n",
      "200/200 [==============================] - 1s 6ms/step - loss: 0.6886 - accuracy: 0.5500\n",
      "Epoch 3/5\n",
      "200/200 [==============================] - 1s 6ms/step - loss: 0.6882 - accuracy: 0.5500: 0s - loss: 0.6\n",
      "Epoch 4/5\n",
      "200/200 [==============================] - 1s 6ms/step - loss: 0.6882 - accuracy: 0.5500\n",
      "Epoch 5/5\n",
      "200/200 [==============================] - 1s 6ms/step - loss: 0.6882 - accuracy: 0.5500\n",
      "Model: \"sequential\"\n",
      "_________________________________________________________________\n",
      "Layer (type)                 Output Shape              Param #   \n",
      "=================================================================\n",
      "flatten (Flatten)            (32, 50625)               0         \n",
      "_________________________________________________________________\n",
      "dense (Dense)                (32, 64)                  3240064   \n",
      "_________________________________________________________________\n",
      "dense_1 (Dense)              (32, 64)                  4160      \n",
      "_________________________________________________________________\n",
      "dense_2 (Dense)              (32, 2)                   130       \n",
      "=================================================================\n",
      "Total params: 3,244,354\n",
      "Trainable params: 3,244,354\n",
      "Non-trainable params: 0\n",
      "_________________________________________________________________\n",
      "70/70 [==============================] - 7s 9ms/step - loss: 0.6838 - accuracy: 0.5714\n"
     ]
    },
    {
     "data": {
      "text/plain": [
       "[0.6838445663452148, 0.5714285969734192]"
      ]
     },
     "execution_count": 8,
     "metadata": {},
     "output_type": "execute_result"
    }
   ],
   "source": [
    "model_MLP = get_model_MLP()\n",
    "model_MLP.fit(train_set, train_labels, epochs = 5)\n",
    "model_MLP.summary()\n",
    "model_MLP.evaluate(test_set, test_labels)   \n",
    "\n"
   ]
  },
  {
   "cell_type": "code",
   "execution_count": 9,
   "metadata": {},
   "outputs": [
    {
     "name": "stdout",
     "output_type": "stream",
     "text": [
      "Model: \"sequential_1\"\n",
      "_________________________________________________________________\n",
      "Layer (type)                 Output Shape              Param #   \n",
      "=================================================================\n",
      "conv2d (Conv2D)              (None, 73, 223, 64)       1792      \n",
      "_________________________________________________________________\n",
      "max_pooling2d (MaxPooling2D) (None, 36, 111, 64)       0         \n",
      "_________________________________________________________________\n",
      "conv2d_1 (Conv2D)            (None, 34, 109, 64)       36928     \n",
      "_________________________________________________________________\n",
      "max_pooling2d_1 (MaxPooling2 (None, 17, 54, 64)        0         \n",
      "_________________________________________________________________\n",
      "flatten_1 (Flatten)          (None, 58752)             0         \n",
      "_________________________________________________________________\n",
      "dense_3 (Dense)              (None, 64)                3760192   \n",
      "_________________________________________________________________\n",
      "dense_4 (Dense)              (None, 64)                4160      \n",
      "_________________________________________________________________\n",
      "dense_5 (Dense)              (None, 2)                 130       \n",
      "=================================================================\n",
      "Total params: 3,803,202\n",
      "Trainable params: 3,803,202\n",
      "Non-trainable params: 0\n",
      "_________________________________________________________________\n",
      "Epoch 1/5\n",
      "200/200 [==============================] - 29s 34ms/step - loss: 0.6886 - accuracy: 0.5480\n",
      "Epoch 2/5\n",
      "200/200 [==============================] - 7s 34ms/step - loss: 0.6604 - accuracy: 0.6067\n",
      "Epoch 3/5\n",
      "200/200 [==============================] - 7s 34ms/step - loss: 0.6108 - accuracy: 0.6747\n",
      "Epoch 4/5\n",
      "200/200 [==============================] - 7s 34ms/step - loss: 0.5895 - accuracy: 0.6847\n",
      "Epoch 5/5\n",
      "200/200 [==============================] - 7s 33ms/step - loss: 0.5542 - accuracy: 0.7216\n",
      "70/70 [==============================] - 1s 15ms/step - loss: 0.5358 - accuracy: 0.7388\n"
     ]
    },
    {
     "data": {
      "text/plain": [
       "[0.5358499884605408, 0.7388392686843872]"
      ]
     },
     "execution_count": 9,
     "metadata": {},
     "output_type": "execute_result"
    }
   ],
   "source": [
    "model_CNN = get_model_CNN()\n",
    "model_CNN.summary()\n",
    "model_CNN.fit(train_set, train_labels, epochs = 5)\n",
    "model_CNN.evaluate(test_set, test_labels)   "
   ]
  },
  {
   "cell_type": "code",
   "execution_count": null,
   "metadata": {},
   "outputs": [],
   "source": []
  }
 ],
 "metadata": {
  "accelerator": "GPU",
  "colab": {
   "name": "Handwritten_digits.ipynb",
   "provenance": []
  },
  "kernelspec": {
   "display_name": "Python 3",
   "language": "python",
   "name": "python3"
  },
  "language_info": {
   "codemirror_mode": {
    "name": "ipython",
    "version": 3
   },
   "file_extension": ".py",
   "mimetype": "text/x-python",
   "name": "python",
   "nbconvert_exporter": "python",
   "pygments_lexer": "ipython3",
   "version": "3.8.8"
  }
 },
 "nbformat": 4,
 "nbformat_minor": 1
}
