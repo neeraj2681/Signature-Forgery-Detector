{
 "cells": [
  {
   "cell_type": "code",
   "execution_count": 45,
   "metadata": {},
   "outputs": [],
   "source": [
    "#@author: Niraj Kumar"
   ]
  },
  {
   "cell_type": "code",
   "execution_count": 46,
   "metadata": {
    "id": "G14aCKSxX7Bo"
   },
   "outputs": [],
   "source": [
    "#necessary imports\n",
    "import tensorflow as tf\n",
    "from tensorflow import keras\n",
    "import matplotlib.pyplot as plt\n",
    "import numpy as np\n",
    "import os\n",
    "import imageio"
   ]
  },
  {
   "cell_type": "code",
   "execution_count": 47,
   "metadata": {
    "id": "n5FIyVbSYIE0",
    "scrolled": true
   },
   "outputs": [
    {
     "data": {
      "text/plain": [
       "<matplotlib.image.AxesImage at 0x27575de7970>"
      ]
     },
     "execution_count": 47,
     "metadata": {},
     "output_type": "execute_result"
    },
    {
     "data": {
      "image/png": "[encoded data removed]",
      "text/plain": [
       "<Figure size 983.415x288 with 1 Axes>"
      ]
     },
     "metadata": {
      "needs_background": "light"
     },
     "output_type": "display_data"
    }
   ],
   "source": [
    "#loading the Signature dataset\n",
    "path = \"./Hindi/\"\n",
    "dir_list = next(os.walk(path))[1]\n",
    "dir_list.sort()\n",
    "\n",
    "#segregating genuine and forged signatures\n",
    "original, forged = [], []\n",
    "for directory in dir_list:\n",
    "    images = os.listdir(path+directory)\n",
    "    images.sort()\n",
    "    images = [path+directory+'/'+x for x in images]\n",
    "    forged.append(images[:30])\n",
    "    original.append(images[30:])\n",
    "\n",
    "im = imageio.imread(original[159][23])\n",
    "plt.matshow(im, cmap = 'gray')"
   ]
  },
  {
   "cell_type": "code",
   "execution_count": 48,
   "metadata": {
    "id": "HSqdR1ibaSPO"
   },
   "outputs": [
    {
     "data": {
      "text/plain": [
       "<matplotlib.image.AxesImage at 0x275d91f4340>"
      ]
     },
     "execution_count": 48,
     "metadata": {},
     "output_type": "execute_result"
    },
    {
     "data": {
      "image/png": "[encoded data removed]",
      "text/plain": [
       "<Figure size 864x288 with 1 Axes>"
      ]
     },
     "metadata": {
      "needs_background": "light"
     },
     "output_type": "display_data"
    }
   ],
   "source": [
    "import cv2\n",
    "\n",
    "new_original= []\n",
    "new_forged = []\n",
    "\n",
    "for person in original:\n",
    "    for sign in person:\n",
    "        im = cv2.imread(sign)\n",
    "        res = cv2.resize(im, dsize=(225, 75), interpolation=cv2.INTER_CUBIC)\n",
    "        new_original.append(res)\n",
    "\n",
    "\n",
    "for person in forged:\n",
    "    for sign in person:\n",
    "        im = cv2.imread(sign)\n",
    "        res = cv2.resize(im, dsize=(225, 75), interpolation=cv2.INTER_CUBIC)\n",
    "        new_forged.append(res)\n",
    "        \n",
    "np.random.shuffle(new_forged)\n",
    "np.random.shuffle(new_original)\n",
    "\n",
    "forged_train = np.array(new_forged[:(70  * len(new_forged)) // 100])\n",
    "forged_test = np.array(new_forged[(70 * len(new_forged)) // 100:])\n",
    "\n",
    "forged_train = forged_train / 255.0\n",
    "forged_test = forged_test / 255.0\n",
    "\n",
    "original_train = np.array(new_original[:(70  * len(new_original)) // 100])\n",
    "original_test = np.array(new_original[(70 * len(new_original)) // 100:])\n",
    "\n",
    "plt.matshow(original_test[0])"
   ]
  },
  {
   "cell_type": "code",
   "execution_count": 49,
   "metadata": {},
   "outputs": [
    {
     "name": "stdout",
     "output_type": "stream",
     "text": [
      "2688\n",
      "1152\n",
      "3360\n",
      "1440\n"
     ]
    }
   ],
   "source": [
    "\n",
    "original_train = original_train / 255\n",
    "original_test = original_test / 255\n",
    "\n",
    "print(len(original_train))\n",
    "print(len(original_test))\n",
    "\n",
    "print(len(forged_train))\n",
    "print(len(forged_test))\n",
    "\n",
    "forged_train_labels = np.zeros(len(forged_train), dtype = float)\n",
    "forged_test_labels = np.zeros(len(forged_test), dtype = float)\n",
    "original_train_labels = np.ones(len(original_train), dtype = float)\n",
    "original_test_labels = np.ones(len(original_test), dtype = float)"
   ]
  },
  {
   "cell_type": "code",
   "execution_count": 50,
   "metadata": {
    "id": "YAbQaPXbadSx"
   },
   "outputs": [],
   "source": [
    "#defining a model\n",
    "def get_model():\n",
    "    sgd = keras.optimizers.SGD(learning_rate=0.001, momentum = 0.1)\n",
    "    model = keras.Sequential([\n",
    "                            keras.layers.Flatten(), \n",
    "                            keras.layers.Dense(256, activation='relu'),\n",
    "                            keras.layers.Dense(256, activation = 'relu'),\n",
    "                            keras.layers.Dense(2, input_shape = ( 11250 , ), activation = 'sigmoid')\n",
    "      ])\n",
    "    \n",
    "    model.compile(optimizer = 'sgd', loss = 'sparse_categorical_crossentropy', metrics = ['accuracy'])\n",
    "    return model"
   ]
  },
  {
   "cell_type": "code",
   "execution_count": 51,
   "metadata": {
    "colab": {
     "base_uri": "https://localhost:8080/"
    },
    "id": "SHobCgHmtq65",
    "outputId": "197180fc-82bc-4d65-c51a-25729da3a453",
    "scrolled": false
   },
   "outputs": [
    {
     "name": "stdout",
     "output_type": "stream",
     "text": [
      "Epoch 1/10\n",
      "105/105 [==============================] - 6s 25ms/step - loss: 0.0132 - accuracy: 0.9905\n",
      "Epoch 2/10\n",
      "105/105 [==============================] - 2s 22ms/step - loss: 0.0000e+00 - accuracy: 1.0000\n",
      "Epoch 3/10\n",
      "105/105 [==============================] - 2s 23ms/step - loss: 0.0000e+00 - accuracy: 1.0000\n",
      "Epoch 4/10\n",
      "105/105 [==============================] - 2s 22ms/step - loss: 0.0000e+00 - accuracy: 1.0000\n",
      "Epoch 5/10\n",
      "105/105 [==============================] - 2s 22ms/step - loss: 0.0000e+00 - accuracy: 1.0000\n",
      "Epoch 6/10\n",
      "105/105 [==============================] - 2s 22ms/step - loss: 0.0000e+00 - accuracy: 1.0000\n",
      "Epoch 7/10\n",
      "105/105 [==============================] - 2s 22ms/step - loss: 0.0000e+00 - accuracy: 1.0000\n",
      "Epoch 8/10\n",
      "105/105 [==============================] - 2s 23ms/step - loss: 0.0000e+00 - accuracy: 1.0000\n",
      "Epoch 9/10\n",
      "105/105 [==============================] - 2s 23ms/step - loss: 0.0000e+00 - accuracy: 1.0000\n",
      "Epoch 10/10\n",
      "105/105 [==============================] - 2s 22ms/step - loss: 0.0000e+00 - accuracy: 1.0000\n",
      "Epoch 1/10\n",
      "84/84 [==============================] - 2s 22ms/step - loss: 1.2691 - accuracy: 0.9881\n",
      "Epoch 2/10\n",
      "84/84 [==============================] - 2s 22ms/step - loss: 0.0000e+00 - accuracy: 1.0000\n",
      "Epoch 3/10\n",
      "84/84 [==============================] - 2s 22ms/step - loss: 0.0000e+00 - accuracy: 1.0000\n",
      "Epoch 4/10\n",
      "84/84 [==============================] - 2s 22ms/step - loss: 0.0000e+00 - accuracy: 1.0000\n",
      "Epoch 5/10\n",
      "84/84 [==============================] - 2s 23ms/step - loss: 0.0000e+00 - accuracy: 1.0000\n",
      "Epoch 6/10\n",
      "84/84 [==============================] - 2s 23ms/step - loss: 0.0000e+00 - accuracy: 1.0000\n",
      "Epoch 7/10\n",
      "84/84 [==============================] - 2s 23ms/step - loss: 0.0000e+00 - accuracy: 1.0000\n",
      "Epoch 8/10\n",
      "84/84 [==============================] - 2s 23ms/step - loss: 0.0000e+00 - accuracy: 1.0000\n",
      "Epoch 9/10\n",
      "84/84 [==============================] - 2s 22ms/step - loss: 0.0000e+00 - accuracy: 1.0000\n",
      "Epoch 10/10\n",
      "84/84 [==============================] - 2s 21ms/step - loss: 0.0000e+00 - accuracy: 1.0000\n"
     ]
    },
    {
     "data": {
      "text/plain": [
       "<tensorflow.python.keras.callbacks.History at 0x275d9493310>"
      ]
     },
     "execution_count": 51,
     "metadata": {},
     "output_type": "execute_result"
    }
   ],
   "source": [
    "    model = get_model()\n",
    "    \n",
    "    #training the model on original dataset\n",
    "    model.fit(forged_train, forged_train_labels, epochs=10)\n",
    "    model.fit(original_train, original_train_labels, epochs=10)\n",
    "   \n",
    "    \n",
    "   "
   ]
  },
  {
   "cell_type": "code",
   "execution_count": 52,
   "metadata": {},
   "outputs": [
    {
     "name": "stdout",
     "output_type": "stream",
     "text": [
      "Evaluation on forged!\n",
      "45/45 [==============================] - 19s 12ms/step - loss: 358.0467 - accuracy: 0.0000e+00\n",
      "evaluation on original!\n",
      "36/36 [==============================] - 0s 9ms/step - loss: 0.0000e+00 - accuracy: 1.0000\n"
     ]
    },
    {
     "data": {
      "text/plain": [
       "[0.0, 1.0]"
      ]
     },
     "execution_count": 52,
     "metadata": {},
     "output_type": "execute_result"
    }
   ],
   "source": [
    "#evaluation\n",
    "print(\"Evaluation on forged!\")\n",
    "model.evaluate(forged_test, forged_test_labels)\n",
    "\n",
    "print(\"evaluation on original!\")\n",
    "model.evaluate(original_test, original_test_labels)\n"
   ]
  },
  {
   "cell_type": "code",
   "execution_count": null,
   "metadata": {},
   "outputs": [],
   "source": []
  }
 ],
 "metadata": {
  "accelerator": "GPU",
  "colab": {
   "name": "Handwritten_digits.ipynb",
   "provenance": []
  },
  "kernelspec": {
   "display_name": "Python 3",
   "language": "python",
   "name": "python3"
  },
  "language_info": {
   "codemirror_mode": {
    "name": "ipython",
    "version": 3
   },
   "file_extension": ".py",
   "mimetype": "text/x-python",
   "name": "python",
   "nbconvert_exporter": "python",
   "pygments_lexer": "ipython3",
   "version": "3.8.8"
  }
 },
 "nbformat": 4,
 "nbformat_minor": 1
}
